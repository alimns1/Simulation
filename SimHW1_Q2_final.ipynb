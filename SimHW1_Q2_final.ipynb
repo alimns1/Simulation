{
 "cells": [
  {
   "cell_type": "code",
   "execution_count": 35,
   "metadata": {},
   "outputs": [],
   "source": [
    "import random\n",
    "import pandas as pd\n",
    "import math\n",
    "import matplotlib.pyplot as plt"
   ]
  },
  {
   "cell_type": "code",
   "execution_count": 36,
   "metadata": {},
   "outputs": [],
   "source": [
    "class customer:\n",
    "    def __init__(self, NO):\n",
    "        self.NO = NO # customer ID\n",
    "        self.arrival = 0.0 \n",
    "        self.service_time = 0.0 \n",
    "        self.server = server('None', 2) #server who served the customer\n",
    "        self.end = 0.0 \n",
    "        self.waiting_time = 0.0\n",
    "    def __eq__(self, other):\n",
    "        return self.NO == other.NO\n",
    "class server:\n",
    "    def __init__(self, id, status = 0):\n",
    "        self.id = id\n",
    "        self.status = status #0 means idle and 1 means busy\n",
    "        self.SVR = 0.0 #servers serving time\n",
    "    def __eq__(self, other):\n",
    "        return self.id == other.id\n",
    "def st(): # calculates the service time of a customer using python function\n",
    "    return random.uniform(st_range[0], st_range[1])\n",
    "\n",
    "def at(Tnow): # calculates the arrival time of a customer\n",
    "    return random.uniform(arr_range[0], arr_range[1]) + Tnow"
   ]
  },
  {
   "cell_type": "code",
   "execution_count": 37,
   "metadata": {},
   "outputs": [],
   "source": [
    "#calculates the minimum value of ith column of my_list list\n",
    "def min_lst(my_list, i):\n",
    "    #starting from infinity and iterating over list to find global min\n",
    "    min_value = float('inf')\n",
    "    for sublist in my_list:\n",
    "        \n",
    "        # Compare the first element of each sublist to find the minimum\n",
    "        if sublist[i] < min_value:\n",
    "            min_value = sublist[i]\n",
    "    return min_value\n",
    "#calculates the minimum value of ith column of my_list list\n",
    "def max_lst(my_list, i):\n",
    "    max_value = float('-inf')\n",
    "    #starting from -infinity and iterating over list to find global max\n",
    "    # Iterate over each sublist in my_list\n",
    "    for sublist in my_list:\n",
    "        # Compare the first element of each sublist to find the maximum\n",
    "        if sublist[i] > max_value:\n",
    "            max_value = sublist[i]\n",
    "        return max_value"
   ]
  },
  {
   "cell_type": "code",
   "execution_count": 38,
   "metadata": {},
   "outputs": [],
   "source": [
    "#normalizing profit variable using linear method\n",
    "def normalize_profit(x_ij, min, max):\n",
    "    result = (x_ij - min) / (max - min)\n",
    "    return result\n",
    "\n",
    "#normalizing cost variable using linear method\n",
    "def normalize_cost(x_ij, min, max):\n",
    "    result = (max - x_ij) / (max - min)\n",
    "    return result\n"
   ]
  },
  {
   "cell_type": "code",
   "execution_count": null,
   "metadata": {},
   "outputs": [],
   "source": []
  },
  {
   "cell_type": "code",
   "execution_count": 39,
   "metadata": {},
   "outputs": [],
   "source": [
    "#checks if there are any free servers and randomly chooses one\n",
    "def free_server(servers):\n",
    "    free_servers = []\n",
    "    #getting free servers\n",
    "    for server in servers:\n",
    "        if server.status == 0:\n",
    "            free_servers.append(server)\n",
    "            \n",
    "    #handling no free server\n",
    "    if not free_servers:\n",
    "        result = False\n",
    "    #randomly choosing a free server\n",
    "    else:   \n",
    "\n",
    "        result = random.choice(free_servers)\n",
    "    return result\n",
    "        "
   ]
  },
  {
   "cell_type": "code",
   "execution_count": 40,
   "metadata": {},
   "outputs": [],
   "source": [
    "#executes the arrival event \n",
    "def arrival(i):\n",
    "    global FEL, Q, Tnow, customers, Queue, MTOT, served_customers\n",
    "    # defining new customer\n",
    "    c = customer(i)\n",
    "    MTOT += 1 #updating total number of customer\n",
    "    c.arrival = at(Tnow) #calculating new customer's arrival time\n",
    "    arr_time = c.arrival\n",
    "    customers.append(c) #adding new customer to the list of customer\n",
    "    FEL.append([0, arr_time, c]) #adding new customer arrival event to FEL list\n",
    "    FEL = sorted(FEL, key=lambda x: x[1])  # Sort based on arrival time\n",
    "    chosen_server = free_server(servers) #choosing a free server\n",
    "    if not chosen_server: #if there is no free server add the customer to the queue\n",
    "        Q = Q + 1\n",
    "        Queue.append(customers[i - 1])\n",
    "\n",
    "    else: #if a free server was found \n",
    "        chosen_server.status = 1 #update the server's status\n",
    "        customers[i - 1].service_time = st() #calculate the service time for the customer given in FEL\n",
    "        customers[i - 1].end = Tnow + customers[i - 1].service_time #calculate the end time for the customer given in FEL\n",
    "        customers[i - 1].server = chosen_server #assigning the serving server to the customer\n",
    "        chosen_server.SVR += customers[i - 1].service_time #updating server's serving time\n",
    "        served_customers += 1  #update the customers whose been served\n",
    "        FEL.append([customers[i - 1].server.id, customers[i - 1].end, customers[i - 1]]) #adding an end event to the FEL\n",
    "        FEL = sorted(FEL, key=lambda x: x[1])  # Sort based on end time\n"
   ]
  },
  {
   "cell_type": "code",
   "execution_count": 41,
   "metadata": {},
   "outputs": [],
   "source": [
    "def departure(server, customer): #executes the departure event\n",
    "    global Q, FEL, Tnow, Queue,TWT, served_customers\n",
    "    \n",
    "    if Q > 0:\n",
    "        #if there is a queue, serve the first in queue and assign it to the server whom customer is leaving the system \n",
    "        Q = Q - 1\n",
    "        #calculating values for a customer who've been served (like in arrival when there is a free server)\n",
    "        Queue[0].waiting_time = Tnow - Queue[0].arrival\n",
    "        TWT += Queue[0].waiting_time\n",
    "        Queue[0].service_time = st()\n",
    "        Queue[0].end = Tnow + Queue[0].service_time\n",
    "        Queue[0].server = server\n",
    "        server.SVR += Queue[0].service_time\n",
    "        served_customers += 1\n",
    "        FEL.append([Queue[0].server.id, Queue[0].end, Queue[0]])\n",
    "        FEL = sorted(FEL, key=lambda x: x[1])  # Sort based on end time\n",
    "        Queue.pop(0) #popping the first customer in line becuase they've been served\n",
    "    else:\n",
    "        #if there is no queue update the server's status\n",
    "        server.status = 0\n",
    "    \n",
    "        "
   ]
  },
  {
   "cell_type": "code",
   "execution_count": 42,
   "metadata": {},
   "outputs": [],
   "source": [
    "# checking if a customer has been stayed in line of not (because of python error)\n",
    "def waiting_line(wait):\n",
    "    if abs(wait) < 0.1:\n",
    "        result = 'No'\n",
    "    else:\n",
    "        result = 'Yes'\n",
    "    return result"
   ]
  },
  {
   "cell_type": "code",
   "execution_count": 43,
   "metadata": {},
   "outputs": [],
   "source": [
    "#Simulation Controller\n",
    "#number of servers that we want to calculate up to that\n",
    "number_of_servers = 10\n",
    "#defining the result matrix\n",
    "results = []\n",
    "#calculating the \n",
    "for k in range(1,number_of_servers + 1):\n",
    "    temp_lst = []\n",
    "    for j in range(10):\n",
    "        FEL = []\n",
    "        Queue = []\n",
    "        customers = []\n",
    "        \n",
    "        Tnow = 0\n",
    "        Q = 0\n",
    "        MTOT = 0\n",
    "        TWT = 0\n",
    "        served_customers = 0\n",
    "        servers = []\n",
    "        st_range = (6,10) #range of service time (in min)\n",
    "        arr_range = (0,4) #range of arrival time (in min)\n",
    "        T = 8 * 60 #total time of simulation (in min)\n",
    "        #creating servers\n",
    "        for i in range(1, k + 1):\n",
    "            s = server(i, 0)\n",
    "            servers.append(s)\n",
    "        c1 = customer(0) #defining first customer\n",
    "        c1.arrival = 0\n",
    "        customers.append(c1)\n",
    "        FEL.append([0,0,c1]) #adding first arrival to FEL\n",
    "        FEL = sorted(FEL, key=lambda x: x[1])  # Sort based on end time\n",
    "        i = 1 #number of customers\n",
    "        #FEL loop\n",
    "        while True:\n",
    "            temp = FEL.pop(0) #removing FEL's executed element\n",
    "            Tnow = temp[1] #updating Tnow\n",
    "            if T >= Tnow:\n",
    "                \n",
    "                if temp[0] == 0: #if event code is 0, execute arrival\n",
    "                    arrival(i)\n",
    "                    i = i + 1\n",
    "                else:\n",
    "                    #departure \n",
    "                    departure(temp[2].server, temp[2])\n",
    "            else:\n",
    "                break\n",
    "        sum_utilization = 0 #sum of utilization of all servers\n",
    "        for serverr in servers:\n",
    "            sum_utilization += serverr.SVR\n",
    "        Total_time = customers[served_customers - 1].end #time last customer leaving counted as Total time \n",
    "        Utilization = sum_utilization / Total_time * 100 / k #finding utilization by averaging all servers utilizations\n",
    "        temp_lst.append([Utilization, TWT / served_customers]) #calculating average waiting time and adding to result list\n",
    "    results.append(temp_lst)\n",
    "            \n",
    "        "
   ]
  },
  {
   "cell_type": "markdown",
   "metadata": {},
   "source": [
    "## results"
   ]
  },
  {
   "cell_type": "code",
   "execution_count": 44,
   "metadata": {},
   "outputs": [
    {
     "data": {
      "text/plain": [
       "[[[100.0, 172.35803987857165],\n",
       "  [100.0, 181.30652507343376],\n",
       "  [100.0, 174.90108250110595],\n",
       "  [100.0, 178.88395207602446],\n",
       "  [100.0, 174.36898872336587],\n",
       "  [100.0, 181.2456885101928],\n",
       "  [100.0, 178.14919213403073],\n",
       "  [100.0, 170.15741221530797],\n",
       "  [100.0, 179.93087690156167],\n",
       "  [100.0, 183.4248013474219]],\n",
       " [[99.19751315323757, 112.45634315733017],\n",
       "  [99.1911599767289, 127.84984038912646],\n",
       "  [98.97712600139002, 117.9564012933117],\n",
       "  [99.49629295708158, 119.74001711309242],\n",
       "  [99.7984693694334, 112.81465275316341],\n",
       "  [98.89121323828259, 129.08113720441378],\n",
       "  [99.49276024411856, 112.57125510686544],\n",
       "  [99.61517401948245, 120.48450702655309],\n",
       "  [99.45995041110926, 112.43850532901122],\n",
       "  [99.55604553918977, 109.46780093260548]],\n",
       " [[99.20527974141679, 58.67766122023059],\n",
       "  [98.91486969344676, 58.57492214951479],\n",
       "  [98.85707955200036, 61.549678888648415],\n",
       "  [99.1230795189591, 54.816834992858375],\n",
       "  [99.08491106359988, 68.3625450398805],\n",
       "  [98.94525985200899, 42.14491747399794],\n",
       "  [99.15176589219617, 67.68152357331587],\n",
       "  [99.52650156607127, 78.45639989719074],\n",
       "  [99.14690651325827, 47.012278605196315],\n",
       "  [99.20055221305257, 42.39430405261286]],\n",
       " [[98.26444323216873, 9.009337758620601],\n",
       "  [94.50195789981295, 4.710364204379391],\n",
       "  [98.50768107084123, 6.759144522592277],\n",
       "  [95.02118121618483, 4.036219669960457],\n",
       "  [98.67460775015151, 8.73172158634403],\n",
       "  [97.44197085952776, 6.572038031455151],\n",
       "  [95.49449328833286, 10.07593442216341],\n",
       "  [93.04898843106861, 4.594484596935265],\n",
       "  [96.0570621213379, 6.817283513968515],\n",
       "  [97.60679491708933, 7.9585680981495415]],\n",
       " [[78.98952048248191, 0.46040166755967876],\n",
       "  [84.12894543187086, 1.0827563175903467],\n",
       "  [78.86274646955346, 0.5953598084622002],\n",
       "  [79.81507206503223, 0.461590430171661],\n",
       "  [78.13961231292058, 0.571134559387746],\n",
       "  [80.38777631075618, 0.7356165775799783],\n",
       "  [74.26567278569144, 0.37860117388858433],\n",
       "  [79.98597308180821, 0.40309997068239317],\n",
       "  [79.94822279682946, 0.7010234334880102],\n",
       "  [79.07524380391814, 0.27199195340645527]],\n",
       " [[64.1196843635545, 0.07686361361266916],\n",
       "  [65.23362582949848, 0.056075911472352746],\n",
       "  [67.80090243476404, 0.11024873897839749],\n",
       "  [66.79383427026814, 0.16583645806063427],\n",
       "  [69.34369438900848, 0.13389529767706404],\n",
       "  [64.75920244584665, 0.07071838382969696],\n",
       "  [63.34337570026824, 0.09311897287235084],\n",
       "  [68.82952498409357, 0.2672305916353937],\n",
       "  [68.1112082504567, 0.10627512962180405],\n",
       "  [66.27992132208946, 0.24548311390017097]],\n",
       " [[56.19534076025918, 0.09462941351855639],\n",
       "  [55.14119351054082, 0.0],\n",
       "  [57.67597483647574, 0.06000655547494205],\n",
       "  [58.27493954230179, 0.022004197900472727],\n",
       "  [57.390613358386965, 0.06815781347402433],\n",
       "  [55.765965782253375, 0.021710114942790557],\n",
       "  [57.22637080794599, 0.007812645662118789],\n",
       "  [56.8904841063998, 0.005647086916325675],\n",
       "  [57.09834638311061, 0.012278889467985547],\n",
       "  [57.43587537498254, 0.07292982401360552]],\n",
       " [[52.62090201592429, 0.015365128092881989],\n",
       "  [51.12300461459911, 0.002634588447438643],\n",
       "  [51.822992632676076, 0.007699781331529097],\n",
       "  [51.38199953497566, 0.01208473473927609],\n",
       "  [47.141860108162845, 0.002822322115600416],\n",
       "  [50.69548456728603, 0.014572770028750492],\n",
       "  [50.054652943507826, 0.0],\n",
       "  [44.88447989777137, 0.004031803746762272],\n",
       "  [46.729334246896066, 0.0],\n",
       "  [50.15074047734947, 0.030861893259467064]],\n",
       " [[45.13915374000665, 0.0],\n",
       "  [45.02336992037161, 0.0],\n",
       "  [45.922812687915524, 0.003749919955077962],\n",
       "  [44.586216719473754, 0.0],\n",
       "  [43.958885045349255, 0.0],\n",
       "  [44.623278923385364, 0.003823485427174741],\n",
       "  [45.89664756659321, 0.0],\n",
       "  [44.34190752174587, 0.0],\n",
       "  [44.30522512228659, 0.00021385091513920662],\n",
       "  [42.84718210300282, 0.0]],\n",
       " [[41.50060385255725, 0.0],\n",
       "  [40.973784896042176, 0.0],\n",
       "  [40.905636460820304, 0.0002989831430321827],\n",
       "  [40.552144567159544, 0.0],\n",
       "  [40.01695837180286, 0.0],\n",
       "  [39.60227965489966, 0.0],\n",
       "  [36.945604595828, 0.0],\n",
       "  [37.992129242990934, 0.0],\n",
       "  [36.53724374334767, 0.0],\n",
       "  [36.6031109981265, 0.0]]]"
      ]
     },
     "execution_count": 44,
     "metadata": {},
     "output_type": "execute_result"
    }
   ],
   "source": [
    "#this is result of all the runs for all number of servers \n",
    "results"
   ]
  },
  {
   "cell_type": "code",
   "execution_count": 45,
   "metadata": {},
   "outputs": [],
   "source": [
    "#this contains the average of each number of servers\n",
    "averaged_result = []\n",
    "for serverrr in results:\n",
    "    temp1 = 0\n",
    "    temp2 = 0\n",
    "    for u in range(len(serverrr)):\n",
    "        \n",
    "        temp1 += serverrr[u][0]\n",
    "        temp2 += serverrr[u][1]\n",
    "    averaged_result.append([temp1 /10, temp2/10])"
   ]
  },
  {
   "cell_type": "code",
   "execution_count": 46,
   "metadata": {},
   "outputs": [
    {
     "data": {
      "text/plain": [
       "[[100.0, 177.4726559361017],\n",
       " [99.36757049100541, 117.48604603054733],\n",
       " [99.11562056060102, 57.967106589344645],\n",
       " [96.46191807865156, 6.926509640456864],\n",
       " [79.35987855408624, 0.5661575892217054],\n",
       " [66.46149739898482, 0.13257462116605342],\n",
       " [56.909510446265685, 0.03651765413708216],\n",
       " [49.660545103914885, 0.009007302176170606],\n",
       " [44.664467935013064, 0.000778725629739191],\n",
       " [39.16294963835749, 2.989831430321827e-05]]"
      ]
     },
     "execution_count": 46,
     "metadata": {},
     "output_type": "execute_result"
    }
   ],
   "source": [
    "averaged_result"
   ]
  },
  {
   "cell_type": "code",
   "execution_count": 47,
   "metadata": {},
   "outputs": [],
   "source": [
    "normalized_result = []\n",
    "ut_min = min_lst(averaged_result,0)\n",
    "#normalizing both criterias using normalize_profit and normalize_cost functions giving them min and max of wanted columns using minn_lst and max_lst\n",
    "for i in averaged_result:\n",
    "    normalized_result.append([normalize_profit(i[0], min_lst(averaged_result,0), max_lst(averaged_result,0)), normalize_cost(i[1], min_lst(averaged_result,1), max_lst(averaged_result,1))])"
   ]
  },
  {
   "cell_type": "code",
   "execution_count": 48,
   "metadata": {},
   "outputs": [
    {
     "data": {
      "text/plain": [
       "[[1.0, 0.0],\n",
       " [0.9896045336643517, 0.33800485880443354],\n",
       " [0.9854631440192804, 0.6733745480348726],\n",
       " [0.941843302719042, 0.960971559970788],\n",
       " [0.6607310623506615, 0.9968100562686953],\n",
       " [0.4487158334987086, 0.99925315398881],\n",
       " [0.2917064634530231, 0.9997944034714683],\n",
       " [0.17255266984765064, 0.9999494152756834],\n",
       " [0.09043039174240207, 0.9999957806038476],\n",
       " [0.0, 1.0]]"
      ]
     },
     "execution_count": 48,
     "metadata": {},
     "output_type": "execute_result"
    }
   ],
   "source": [
    "normalized_result"
   ]
  },
  {
   "cell_type": "code",
   "execution_count": 49,
   "metadata": {},
   "outputs": [
    {
     "data": {
      "text/plain": [
       "[1.0,\n",
       " 1.3276093924687853,\n",
       " 1.658837692054153,\n",
       " 1.90281486268983,\n",
       " 1.6575411186193567,\n",
       " 1.4479689874875186,\n",
       " 1.2915008669244914,\n",
       " 1.172502085123334,\n",
       " 1.0904261723462496,\n",
       " 1.0]"
      ]
     },
     "execution_count": 49,
     "metadata": {},
     "output_type": "execute_result"
    }
   ],
   "source": [
    "x_values = [i for i in range(1, len(normalized_result) + 1)]\n",
    "y1_values = [row[0] for row in normalized_result] #utilization\n",
    "y2_values = [row[1] for row in normalized_result] #average waiting time\n",
    "optimal_y = sum_list = [x + y for x, y in zip(y1_values, y2_values)] #utility function\n",
    "optimal_y"
   ]
  },
  {
   "cell_type": "code",
   "execution_count": 50,
   "metadata": {},
   "outputs": [
    {
     "data": {
      "image/png": "[encoded data removed]",
      "text/plain": [
       "<Figure size 800x600 with 1 Axes>"
      ]
     },
     "metadata": {},
     "output_type": "display_data"
    }
   ],
   "source": [
    "# Plotting both datasets on the same plot\n",
    "plt.figure(figsize=(8, 6))  # Set the figure size (width, height) in inches\n",
    "\n",
    "# Plot the first dataset\n",
    "plt.plot(x_values, y1_values, label='utilization', color='blue', marker='o')\n",
    "\n",
    "# Plot the second dataset\n",
    "plt.plot(x_values, y2_values, label='average waiting time', color='green', marker='s')\n",
    "\n",
    "# Set plot title and labels\n",
    "plt.title('Two Datasets on the Same Plot')\n",
    "plt.xlabel('X values')\n",
    "plt.ylabel('Y values')\n",
    "\n",
    "# Display legend\n",
    "plt.legend()\n",
    "\n",
    "# Show grid\n",
    "plt.grid(True)\n",
    "\n",
    "# Show the plot\n",
    "plt.show()"
   ]
  },
  {
   "cell_type": "code",
   "execution_count": 51,
   "metadata": {},
   "outputs": [
    {
     "data": {
      "image/png": "[encoded data removed]",
      "text/plain": [
       "<Figure size 800x600 with 1 Axes>"
      ]
     },
     "metadata": {},
     "output_type": "display_data"
    }
   ],
   "source": [
    "# Plotting the data as a scatter plot\n",
    "plt.figure(figsize=(8, 6))  # Set the figure size (width, height) in inches\n",
    "plt.scatter(x_values, optimal_y, color='blue', label='Data Points')  # Create a scatter plot\n",
    "plt.title('Utility to the number of servers')  # Set the title of the plot\n",
    "plt.xlabel('X values')  # Set the label for the x-axis\n",
    "plt.ylabel('Y values')  # Set the label for the y-axis\n",
    "plt.plot(x_values, optimal_y, color='blue', linestyle='-', linewidth=2, label='Connected Line')\n",
    "plt.legend()  # Show legend (if labels are specified)\n",
    "plt.grid(True)  # Show grid\n",
    "plt.show()  # Display the plot"
   ]
  }
 ],
 "metadata": {
  "kernelspec": {
   "display_name": "Python 3",
   "language": "python",
   "name": "python3"
  },
  "language_info": {
   "codemirror_mode": {
    "name": "ipython",
    "version": 3
   },
   "file_extension": ".py",
   "mimetype": "text/x-python",
   "name": "python",
   "nbconvert_exporter": "python",
   "pygments_lexer": "ipython3",
   "version": "3.11.8"
  }
 },
 "nbformat": 4,
 "nbformat_minor": 2
}
